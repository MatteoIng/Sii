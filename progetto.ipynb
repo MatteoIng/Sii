{
 "cells": [
  {
   "attachments": {},
   "cell_type": "markdown",
   "metadata": {},
   "source": [
    "## Import"
   ]
  },
  {
   "cell_type": "code",
   "execution_count": 1,
   "metadata": {},
   "outputs": [],
   "source": [
    "import pandas as pd\n",
    "import numpy as np\n",
    "import math\n",
    "import re\n",
    "from scipy.sparse import csr_matrix\n",
    "import matplotlib.pyplot as plt\n",
    "import seaborn as sns\n",
    "from surprise import Reader, Dataset, SVD\n",
    "from surprise.model_selection import cross_validate\n",
    "from surprise.model_selection import train_test_split\n",
    "from surprise import accuracy\n",
    "from sklearn.metrics import precision_score, recall_score, f1_score\n",
    "from sklearn.metrics.pairwise import cosine_similarity\n",
    "\n",
    "import pandas as pd\n",
    "from surprise import Dataset, Reader\n",
    "from surprise import KNNBasic\n",
    "from surprise.model_selection import cross_validate\n",
    "from surprise import accuracy\n",
    "from surprise.model_selection import train_test_split\n",
    "\n",
    "sns.set_style(\"darkgrid\")"
   ]
  },
  {
   "attachments": {},
   "cell_type": "markdown",
   "metadata": {},
   "source": [
    "### Importare dataset"
   ]
  },
  {
   "cell_type": "code",
   "execution_count": 3,
   "metadata": {},
   "outputs": [
    {
     "name": "stdout",
     "output_type": "stream",
     "text": [
      "Dataset 1 shape: (24058263, 2)\n",
      "Dataset 1 shape without rating null: (24058263, 3)\n",
      "-Dataset examples-\n",
      "   index  Cust_Id  Rating\n",
      "0      0       1:     NaN\n",
      "1      1  1488844     3.0\n",
      "2      2   822109     5.0\n",
      "3      3   885013     4.0\n",
      "4      4    30878     4.0\n"
     ]
    }
   ],
   "source": [
    "df1 = pd.read_csv('./combined_data_1.txt', header = None, names = ['Cust_Id', 'Rating'], usecols = [0,1])\n",
    "\n",
    "df1['Rating'] = df1['Rating'].astype(float)\n",
    "\n",
    "print('Dataset 1 shape:',df1.shape)\n",
    "\n",
    "# Mi genera un nuovo indice da 1\n",
    "df1 = df1.reset_index()\n",
    "print('Dataset 1 shape without rating null:',df1.shape)\n",
    "\n",
    "print('-Dataset examples-')\n",
    "print(df1[:5])\n"
   ]
  },
  {
   "attachments": {},
   "cell_type": "markdown",
   "metadata": {},
   "source": [
    "### Prendo i primi 1000"
   ]
  },
  {
   "cell_type": "code",
   "execution_count": 32,
   "metadata": {},
   "outputs": [],
   "source": [
    "df1 = df1.head(1000)"
   ]
  },
  {
   "attachments": {},
   "cell_type": "markdown",
   "metadata": {},
   "source": [
    "### Non so cosa faccia ma mi mete movie id "
   ]
  },
  {
   "cell_type": "code",
   "execution_count": 33,
   "metadata": {},
   "outputs": [
    {
     "name": "stdout",
     "output_type": "stream",
     "text": [
      "-Dataset examples-\n",
      "     index  Cust_Id  Rating  Movie_Id\n",
      "1        1  1488844     3.0         1\n",
      "2        2   822109     5.0         1\n",
      "3        3   885013     4.0         1\n",
      "4        4    30878     4.0         1\n",
      "5        5   823519     3.0         1\n",
      "..     ...      ...     ...       ...\n",
      "995    995   369761     3.0         3\n",
      "996    996  1065126     4.0         3\n",
      "997    997  1101467     4.0         3\n",
      "998    998   393413     3.0         3\n",
      "999    999   478176     4.0         3\n",
      "\n",
      "[997 rows x 4 columns]\n"
     ]
    },
    {
     "name": "stderr",
     "output_type": "stream",
     "text": [
      "/tmp/ipykernel_9865/110950279.py:24: SettingWithCopyWarning: \n",
      "A value is trying to be set on a copy of a slice from a DataFrame.\n",
      "Try using .loc[row_indexer,col_indexer] = value instead\n",
      "\n",
      "See the caveats in the documentation: https://pandas.pydata.org/pandas-docs/stable/user_guide/indexing.html#returning-a-view-versus-a-copy\n",
      "  df['Movie_Id'] = movie_np.astype(int)\n",
      "/tmp/ipykernel_9865/110950279.py:25: SettingWithCopyWarning: \n",
      "A value is trying to be set on a copy of a slice from a DataFrame.\n",
      "Try using .loc[row_indexer,col_indexer] = value instead\n",
      "\n",
      "See the caveats in the documentation: https://pandas.pydata.org/pandas-docs/stable/user_guide/indexing.html#returning-a-view-versus-a-copy\n",
      "  df['Cust_Id'] = df['Cust_Id'].astype(int)\n"
     ]
    }
   ],
   "source": [
    "df_nan = pd.DataFrame(pd.isnull(df1.Rating))\n",
    "df_nan = df_nan[df_nan['Rating'] == True]\n",
    "df_nan = df_nan.reset_index()\n",
    "\n",
    "movie_np = []\n",
    "movie_id = 1\n",
    "\n",
    "for i,j in zip(df_nan['index'][1:],df_nan['index'][:-1]):\n",
    "    # numpy approach\n",
    "    temp = np.full((1,i-j-1), movie_id)\n",
    "    movie_np = np.append(movie_np, temp)\n",
    "    movie_id += 1\n",
    "\n",
    "# Account for last record and corresponding length\n",
    "# numpy approach\n",
    "last_record = np.full((1,len(df1) - df_nan.iloc[-1, 0] - 1),movie_id)\n",
    "movie_np = np.append(movie_np, last_record)\n",
    "\n",
    "#print('Movie numpy:',movie_np)\n",
    "#print('Length:',len(movie_np))\n",
    "\n",
    "df = df1[pd.notnull(df1['Rating'])]\n",
    "\n",
    "df['Movie_Id'] = movie_np.astype(int)\n",
    "df['Cust_Id'] = df['Cust_Id'].astype(int)\n",
    "print('-Dataset examples-')\n",
    "print(df)\n"
   ]
  },
  {
   "cell_type": "code",
   "execution_count": null,
   "metadata": {},
   "outputs": [],
   "source": [
    "#df_title = pd.read_csv('./movie_titles.csv', encoding = \"ISO-8859-1\", header = None, names = ['Movie_Id', 'Year', 'Name'],usecols=[0,1,2])\n",
    "#df_title.set_index('Movie_Id', inplace = True)\n",
    "#print (df_title[:5])"
   ]
  },
  {
   "cell_type": "code",
   "execution_count": 34,
   "metadata": {},
   "outputs": [
    {
     "data": {
      "text/html": [
       "<div>\n",
       "<style scoped>\n",
       "    .dataframe tbody tr th:only-of-type {\n",
       "        vertical-align: middle;\n",
       "    }\n",
       "\n",
       "    .dataframe tbody tr th {\n",
       "        vertical-align: top;\n",
       "    }\n",
       "\n",
       "    .dataframe thead th {\n",
       "        text-align: right;\n",
       "    }\n",
       "</style>\n",
       "<table border=\"1\" class=\"dataframe\">\n",
       "  <thead>\n",
       "    <tr style=\"text-align: right;\">\n",
       "      <th></th>\n",
       "      <th>index</th>\n",
       "      <th>Cust_Id</th>\n",
       "      <th>Rating</th>\n",
       "      <th>Movie_Id</th>\n",
       "    </tr>\n",
       "  </thead>\n",
       "  <tbody>\n",
       "    <tr>\n",
       "      <th>772</th>\n",
       "      <td>772</td>\n",
       "      <td>1333</td>\n",
       "      <td>4.0</td>\n",
       "      <td>3</td>\n",
       "    </tr>\n",
       "  </tbody>\n",
       "</table>\n",
       "</div>"
      ],
      "text/plain": [
       "     index  Cust_Id  Rating  Movie_Id\n",
       "772    772     1333     4.0         3"
      ]
     },
     "execution_count": 34,
     "metadata": {},
     "output_type": "execute_result"
    }
   ],
   "source": [
    "df.loc[df['Cust_Id']==1333]"
   ]
  },
  {
   "cell_type": "code",
   "execution_count": 35,
   "metadata": {},
   "outputs": [
    {
     "data": {
      "text/html": [
       "<div>\n",
       "<style scoped>\n",
       "    .dataframe tbody tr th:only-of-type {\n",
       "        vertical-align: middle;\n",
       "    }\n",
       "\n",
       "    .dataframe tbody tr th {\n",
       "        vertical-align: top;\n",
       "    }\n",
       "\n",
       "    .dataframe thead th {\n",
       "        text-align: right;\n",
       "    }\n",
       "</style>\n",
       "<table border=\"1\" class=\"dataframe\">\n",
       "  <thead>\n",
       "    <tr style=\"text-align: right;\">\n",
       "      <th></th>\n",
       "      <th>index</th>\n",
       "      <th>Cust_Id</th>\n",
       "      <th>Rating</th>\n",
       "      <th>Movie_Id</th>\n",
       "    </tr>\n",
       "  </thead>\n",
       "  <tbody>\n",
       "  </tbody>\n",
       "</table>\n",
       "</div>"
      ],
      "text/plain": [
       "Empty DataFrame\n",
       "Columns: [index, Cust_Id, Rating, Movie_Id]\n",
       "Index: []"
      ]
     },
     "execution_count": 35,
     "metadata": {},
     "output_type": "execute_result"
    }
   ],
   "source": [
    "df.loc[df['Cust_Id']==7]"
   ]
  },
  {
   "cell_type": "code",
   "execution_count": 32,
   "metadata": {},
   "outputs": [
    {
     "name": "stdout",
     "output_type": "stream",
     "text": [
      "-0.36981816494376013\n"
     ]
    }
   ],
   "source": [
    "print((((4-3.16)*(0-4.5))+((3-3.16)*(5-4.5))+((4-3.16)*(0-4.5))+((3-3.16)*(0-4.5))+((2-3.16)*(4-4.5))+((3-3.16)*(0-4.5)))/ (math.sqrt((((4-3.16)**2)+((3-3.16)**2)+((2-3.16)**2)+((3-3.16)**2)+ ((3-3.16)**2)+((4-3.16)**2))) * math.sqrt((((0-4.5)**2)+((5-4.5)**2)+((0-4.5)**2)+((4-4.5)**2)+((0-4.5)**2)+((0-4.5)**2)))))"
   ]
  },
  {
   "cell_type": "code",
   "execution_count": 36,
   "metadata": {},
   "outputs": [
    {
     "data": {
      "text/html": [
       "<div>\n",
       "<style scoped>\n",
       "    .dataframe tbody tr th:only-of-type {\n",
       "        vertical-align: middle;\n",
       "    }\n",
       "\n",
       "    .dataframe tbody tr th {\n",
       "        vertical-align: top;\n",
       "    }\n",
       "\n",
       "    .dataframe thead th {\n",
       "        text-align: right;\n",
       "    }\n",
       "</style>\n",
       "<table border=\"1\" class=\"dataframe\">\n",
       "  <thead>\n",
       "    <tr style=\"text-align: right;\">\n",
       "      <th></th>\n",
       "      <th>index</th>\n",
       "      <th>Cust_Id</th>\n",
       "      <th>Rating</th>\n",
       "      <th>Movie_Id</th>\n",
       "    </tr>\n",
       "  </thead>\n",
       "  <tbody>\n",
       "    <tr>\n",
       "      <th>757</th>\n",
       "      <td>757</td>\n",
       "      <td>21983</td>\n",
       "      <td>4.0</td>\n",
       "      <td>3</td>\n",
       "    </tr>\n",
       "  </tbody>\n",
       "</table>\n",
       "</div>"
      ],
      "text/plain": [
       "     index  Cust_Id  Rating  Movie_Id\n",
       "757    757    21983     4.0         3"
      ]
     },
     "execution_count": 36,
     "metadata": {},
     "output_type": "execute_result"
    }
   ],
   "source": [
    "df.loc[df['Cust_Id']==21983]"
   ]
  },
  {
   "attachments": {},
   "cell_type": "markdown",
   "metadata": {},
   "source": [
    "### Creo matrice di rating"
   ]
  },
  {
   "cell_type": "code",
   "execution_count": 37,
   "metadata": {},
   "outputs": [
    {
     "name": "stdout",
     "output_type": "stream",
     "text": [
      "Movie_Id    1    2    3\n",
      "Cust_Id                \n",
      "915       5.0  0.0  0.0\n",
      "1333      0.0  0.0  4.0\n",
      "2442      3.0  0.0  0.0\n",
      "3321      3.0  0.0  0.0\n",
      "4326      4.0  0.0  0.0\n",
      "...       ...  ...  ...\n",
      "2640085   0.0  5.0  0.0\n",
      "2646060   0.0  0.0  3.0\n",
      "2646115   0.0  0.0  3.0\n",
      "2647871   4.0  0.0  0.0\n",
      "2648861   0.0  3.0  0.0\n",
      "\n",
      "[985 rows x 3 columns]\n"
     ]
    }
   ],
   "source": [
    "ratings_matrix = df.pivot(index='Cust_Id', columns='Movie_Id', values='Rating')\n",
    "\n",
    "# Se vuoi gestire eventuali valori mancanti con uno zero, puoi utilizzare il metodo fillna\n",
    "ratings_matrix = ratings_matrix.fillna(0)\n",
    "\n",
    "# Se preferisci avere la matrice come array numpy, puoi utilizzare values\n",
    "#ratings_matrix_array = ratings_matrix.values\n",
    "\n",
    "print(ratings_matrix)"
   ]
  },
  {
   "attachments": {},
   "cell_type": "markdown",
   "metadata": {},
   "source": [
    "## Usare user based NN"
   ]
  },
  {
   "attachments": {},
   "cell_type": "markdown",
   "metadata": {},
   "source": [
    "#### Calcolo similarità"
   ]
  },
  {
   "cell_type": "code",
   "execution_count": 38,
   "metadata": {},
   "outputs": [],
   "source": [
    "id_user_target = 1333"
   ]
  },
  {
   "cell_type": "code",
   "execution_count": 39,
   "metadata": {},
   "outputs": [
    {
     "name": "stdout",
     "output_type": "stream",
     "text": [
      "Movie_Id\n",
      "1    0.0\n",
      "2    0.0\n",
      "3    4.0\n",
      "Name: 1333, dtype: float64\n"
     ]
    }
   ],
   "source": [
    "user_target = ratings_matrix.loc[id_user_target]\n",
    "print(user_target)"
   ]
  },
  {
   "cell_type": "code",
   "execution_count": 40,
   "metadata": {},
   "outputs": [
    {
     "name": "stdout",
     "output_type": "stream",
     "text": [
      "4.0\n",
      "{915: 5.0, 1333: 4.0, 2442: 3.0, 3321: 3.0, 4326: 4.0, 6689: 4.0, 11409: 5.0, 11589: 3.0, 13651: 3.0, 14756: 4.0, 14924: 5.0, 16272: 4.0, 21722: 4.0, 21983: 4.0, 24344: 4.0, 30245: 5.0, 30878: 4.0, 31913: 4.0, 34907: 3.0, 38052: 3.0, 41371: 5.0, 41422: 4.0, 42921: 3.0, 42930: 3.0, 44783: 3.0, 44937: 5.0, 45117: 5.0, 51230: 4.0, 51334: 4.0, 52540: 1.0, 54774: 4.0, 55016: 3.0, 57961: 4.0, 59052: 2.0, 60343: 5.0, 65932: 3.0, 66414: 5.0, 67315: 4.0, 68033: 4.0, 68959: 3.0, 69809: 5.0, 77266: 2.0, 78931: 5.0, 79160: 4.0, 87113: 2.0, 93986: 5.0, 94565: 4.0, 99400: 5.0, 101597: 5.0, 104768: 5.0, 105086: 5.0, 108052: 4.0, 109089: 5.0, 115498: 3.0, 120491: 5.0, 121073: 5.0, 121318: 4.0, 121456: 4.0, 122197: 1.0, 124105: 4.0, 134001: 4.0, 136106: 3.0, 143274: 3.0, 145873: 3.0, 147386: 5.0, 151004: 5.0, 153249: 4.0, 155164: 4.0, 156078: 5.0, 162854: 4.0, 166041: 4.0, 166100: 4.0, 172264: 4.0, 173930: 4.0, 175763: 4.0, 181592: 4.0, 183215: 4.0, 183903: 5.0, 188416: 3.0, 188613: 4.0, 190418: 3.0, 193476: 5.0, 194280: 1.0, 196494: 5.0, 199769: 4.0, 202811: 3.0, 203667: 5.0, 206115: 4.0, 206809: 5.0, 208920: 4.0, 209549: 5.0, 209573: 4.0, 213541: 3.0, 214166: 3.0, 215406: 5.0, 219925: 4.0, 220427: 4.0, 222290: 4.0, 225765: 4.0, 230112: 3.0, 231001: 3.0, 235553: 4.0, 236271: 2.0, 236921: 5.0, 244266: 3.0, 247898: 5.0, 247940: 4.0, 248932: 4.0, 250836: 3.0, 253037: 3.0, 253794: 5.0, 253876: 4.0, 255383: 5.0, 255443: 2.0, 257517: 4.0, 259799: 4.0, 261764: 1.0, 263240: 3.0, 268917: 2.0, 269524: 3.0, 272689: 5.0, 283774: 5.0, 287901: 5.0, 288420: 5.0, 290951: 4.0, 297498: 5.0, 305344: 1.0, 308753: 5.0, 309333: 4.0, 309567: 2.0, 311232: 2.0, 311641: 1.0, 314933: 3.0, 317050: 5.0, 320540: 2.0, 321111: 2.0, 322009: 3.0, 323148: 3.0, 328415: 3.0, 332401: 3.0, 334701: 3.0, 337541: 5.0, 341954: 2.0, 344753: 3.0, 345869: 4.0, 348960: 1.0, 349407: 5.0, 352635: 5.0, 353369: 3.0, 357507: 3.0, 358776: 4.0, 361066: 3.0, 369646: 5.0, 369761: 3.0, 372233: 5.0, 372528: 3.0, 375319: 4.0, 376148: 5.0, 379184: 4.0, 383247: 5.0, 386510: 5.0, 386915: 4.0, 387418: 1.0, 389872: 2.0, 391517: 4.0, 392722: 4.0, 393413: 3.0, 396595: 5.0, 400162: 5.0, 401047: 4.0, 402266: 5.0, 402321: 4.0, 402377: 4.0, 406057: 4.0, 410537: 4.0, 411705: 4.0, 412535: 4.0, 421374: 5.0, 425033: 3.0, 426476: 5.0, 427928: 4.0, 433945: 5.0, 435841: 3.0, 437111: 4.0, 437881: 3.0, 439011: 1.0, 444411: 3.0, 445828: 2.0, 448902: 5.0, 453694: 5.0, 454417: 4.0, 466135: 4.0, 468713: 5.0, 470232: 4.0, 470861: 5.0, 473070: 5.0, 478176: 4.0, 479779: 4.0, 479924: 5.0, 485622: 5.0, 489962: 3.0, 491531: 5.0, 492291: 3.0, 493009: 4.0, 493945: 5.0, 494609: 4.0, 494639: 2.0, 496087: 2.0, 498469: 5.0, 503334: 4.0, 504620: 2.0, 507603: 1.0, 508727: 3.0, 514312: 3.0, 514495: 4.0, 515436: 1.0, 515850: 5.0, 519684: 5.0, 520386: 3.0, 521932: 4.0, 525003: 5.0, 525356: 2.0, 526466: 4.0, 527491: 4.0, 528384: 5.0, 530789: 5.0, 531155: 4.0, 532382: 4.0, 535396: 2.0, 543865: 4.0, 544022: 3.0, 544496: 2.0, 544833: 3.0, 547732: 3.0, 548064: 5.0, 553931: 4.0, 556045: 5.0, 558634: 4.0, 563962: 5.0, 565041: 4.0, 568930: 5.0, 569099: 3.0, 573434: 4.0, 573537: 4.0, 573975: 3.0, 574843: 5.0, 581199: 4.0, 584542: 5.0, 584750: 3.0, 593225: 3.0, 595778: 3.0, 596533: 5.0, 596728: 2.0, 603277: 3.0, 604949: 4.0, 608234: 5.0, 608576: 4.0, 616720: 4.0, 618272: 1.0, 619721: 4.0, 620147: 5.0, 620771: 2.0, 623036: 5.0, 624035: 5.0, 630887: 5.0, 636262: 1.0, 636475: 3.0, 638020: 3.0, 638824: 5.0, 640588: 4.0, 642036: 3.0, 646098: 4.0, 652324: 3.0, 656399: 4.0, 659505: 4.0, 660454: 4.0, 660499: 1.0, 661344: 3.0, 662870: 5.0, 667730: 5.0, 672980: 5.0, 682963: 3.0, 684876: 4.0, 685113: 4.0, 685565: 5.0, 691108: 4.0, 697945: 4.0, 699878: 4.0, 700890: 5.0, 701730: 2.0, 701960: 5.0, 704249: 4.0, 706832: 4.0, 709342: 4.0, 712609: 4.0, 712610: 4.0, 712664: 5.0, 714550: 4.0, 714960: 4.0, 715897: 5.0, 716874: 5.0, 719833: 4.0, 722006: 4.0, 722591: 5.0, 727242: 1.0, 729846: 4.0, 732936: 5.0, 740495: 4.0, 741245: 4.0, 743633: 4.0, 748922: 5.0, 752642: 3.0, 755319: 3.0, 758850: 4.0, 758937: 4.0, 765860: 4.0, 766489: 3.0, 767518: 5.0, 769643: 1.0, 770921: 5.0, 780282: 4.0, 782308: 5.0, 785768: 3.0, 786312: 3.0, 788774: 4.0, 790920: 3.0, 793228: 4.0, 793564: 4.0, 799442: 4.0, 803752: 3.0, 804919: 4.0, 808731: 4.0, 810636: 4.0, 810700: 5.0, 811218: 5.0, 811790: 5.0, 814701: 5.0, 817851: 4.0, 818416: 3.0, 820624: 4.0, 822109: 5.0, 823519: 3.0, 828410: 4.0, 828919: 5.0, 831775: 4.0, 831869: 4.0, 835265: 4.0, 837756: 5.0, 845529: 5.0, 850327: 5.0, 851855: 4.0, 863302: 4.0, 870391: 2.0, 871489: 5.0, 871548: 5.0, 871580: 3.0, 872408: 4.0, 874943: 5.0, 880166: 5.0, 881346: 5.0, 883478: 2.5, 885013: 4.0, 885165: 4.0, 890669: 4.0, 893742: 4.0, 893988: 3.0, 907623: 3.0, 917063: 4.0, 920625: 2.0, 921487: 2.0, 924839: 5.0, 931626: 2.0, 936396: 2.0, 946102: 5.0, 946970: 4.0, 948069: 3.0, 958104: 4.0, 958382: 4.0, 962955: 2.0, 966255: 4.0, 968765: 5.0, 968796: 3.0, 970975: 3.0, 972136: 3.0, 975874: 5.0, 976059: 3.0, 977632: 4.0, 978412: 5.0, 979820: 1.0, 984369: 3.0, 988104: 3.0, 991423: 4.0, 995594: 5.0, 998236: 5.0, 998862: 4.0, 1001779: 4.0, 1005769: 5.0, 1007809: 4.0, 1008986: 4.0, 1009622: 1.0, 1011918: 4.0, 1013802: 1.0, 1017324: 4.0, 1022254: 5.0, 1022903: 4.0, 1023101: 3.0, 1025193: 5.0, 1025579: 4.0, 1025601: 5.0, 1025798: 3.0, 1027056: 3.0, 1033433: 2.0, 1033930: 3.0, 1036823: 3.0, 1045221: 1.0, 1046882: 3.0, 1057518: 4.0, 1059319: 3.0, 1060658: 3.0, 1065126: 4.0, 1066317: 4.0, 1073367: 3.0, 1077982: 4.0, 1078701: 4.0, 1078792: 4.0, 1080361: 3.0, 1086360: 3.0, 1086807: 3.0, 1087412: 4.0, 1094443: 2.0, 1100037: 3.0, 1100170: 4.0, 1100940: 1.0, 1101467: 4.0, 1107588: 1.0, 1107678: 5.0, 1113230: 3.0, 1115632: 3.0, 1116065: 1.0, 1116080: 5.0, 1117062: 4.0, 1122383: 3.0, 1123959: 3.0, 1124822: 4.0, 1125499: 5.0, 1125797: 3.0, 1129620: 3.0, 1130826: 3.0, 1131325: 2.0, 1133214: 4.0, 1133763: 3.0, 1134816: 4.0, 1137010: 4.0, 1140108: 4.0, 1141189: 4.0, 1142291: 4.0, 1148389: 4.0, 1149588: 4.0, 1155602: 3.0, 1155747: 3.0, 1158759: 4.0, 1159695: 4.0, 1167731: 4.0, 1168571: 5.0, 1172326: 5.0, 1176404: 4.0, 1178171: 4.0, 1181170: 3.0, 1181550: 3.0, 1182185: 4.0, 1188228: 2.0, 1190070: 4.0, 1190829: 4.0, 1195585: 5.0, 1196100: 4.0, 1197233: 2.0, 1198785: 2.0, 1201176: 4.0, 1204327: 4.0, 1206452: 4.0, 1209119: 4.0, 1209954: 5.0, 1210631: 3.0, 1213801: 3.0, 1215397: 5.0, 1221390: 4.0, 1227322: 4.0, 1228324: 4.0, 1231910: 3.0, 1236127: 4.0, 1245176: 4.0, 1245406: 4.0, 1245640: 3.0, 1247177: 3.0, 1248029: 3.0, 1248452: 3.0, 1251170: 2.0, 1252841: 3.0, 1254683: 1.0, 1255780: 5.0, 1272122: 5.0, 1273630: 4.0, 1274780: 3.0, 1275804: 4.0, 1278394: 4.0, 1278488: 4.0, 1281996: 4.0, 1283117: 5.0, 1283204: 3.0, 1283598: 3.0, 1283744: 3.0, 1283965: 4.0, 1286051: 3.0, 1287892: 4.0, 1288603: 5.0, 1294335: 2.0, 1308744: 5.0, 1311231: 3.0, 1312846: 3.0, 1313126: 5.0, 1315005: 4.0, 1319527: 5.0, 1331154: 4.0, 1340535: 5.0, 1342007: 3.0, 1343170: 5.0, 1344564: 3.0, 1346257: 3.0, 1346432: 4.0, 1347129: 4.0, 1348967: 2.0, 1349753: 3.0, 1355097: 4.0, 1357013: 3.0, 1357894: 3.0, 1358911: 5.0, 1364481: 4.0, 1366860: 4.0, 1374216: 1.5, 1388284: 5.0, 1394012: 5.0, 1394444: 5.0, 1398076: 4.0, 1398626: 2.5, 1401399: 4.0, 1401650: 4.0, 1403184: 3.0, 1403217: 2.0, 1406148: 3.0, 1406595: 4.0, 1407746: 3.0, 1415954: 2.0, 1421006: 3.0, 1424199: 5.0, 1426604: 4.0, 1430587: 4.0, 1434636: 3.0, 1435717: 5.0, 1436762: 3.0, 1443203: 4.0, 1445632: 5.0, 1447104: 3.0, 1450941: 5.0, 1455257: 4.0, 1455472: 2.0, 1456369: 4.0, 1458179: 4.0, 1461435: 1.0, 1462072: 5.0, 1462866: 2.0, 1476323: 5.0, 1477923: 4.0, 1478381: 4.0, 1479047: 4.0, 1479793: 3.0, 1479907: 5.0, 1481961: 2.0, 1488844: 3.0, 1493615: 5.0, 1493697: 1.0, 1494196: 5.0, 1503895: 4.0, 1507649: 5.0, 1508350: 4.0, 1508526: 3.0, 1511683: 1.0, 1512406: 1.0, 1515355: 3.0, 1515430: 3.0, 1522799: 4.0, 1524343: 5.0, 1524964: 3.0, 1535440: 4.0, 1537427: 4.0, 1544094: 5.0, 1545189: 4.0, 1546549: 5.0, 1547173: 3.0, 1550216: 1.0, 1554712: 5.0, 1558286: 3.0, 1559445: 5.0, 1562675: 1.0, 1562707: 1.0, 1563530: 4.0, 1563935: 1.0, 1564395: 4.0, 1565175: 5.0, 1567167: 4.0, 1567202: 2.0, 1569513: 3.0, 1576540: 4.0, 1578279: 1.0, 1581186: 4.0, 1581265: 3.0, 1586499: 3.0, 1589677: 4.0, 1594095: 4.0, 1596531: 5.0, 1599030: 5.0, 1600207: 5.0, 1602153: 4.0, 1603525: 3.0, 1604238: 4.0, 1604707: 4.0, 1605780: 4.0, 1607574: 4.0, 1614320: 4.0, 1614895: 4.0, 1623166: 3.0, 1628475: 4.0, 1632603: 3.0, 1632700: 4.0, 1636093: 5.0, 1644750: 3.0, 1645794: 4.0, 1647618: 4.0, 1650301: 2.0, 1653834: 4.0, 1654508: 3.0, 1655178: 4.0, 1658752: 3.0, 1658790: 3.0, 1664010: 4.5, 1665054: 4.0, 1666394: 3.0, 1666581: 4.0, 1673185: 3.0, 1682104: 4.0, 1682651: 4.0, 1686060: 5.0, 1689439: 5.0, 1694083: 4.0, 1694958: 3.0, 1696031: 4.0, 1704175: 4.0, 1710932: 3.0, 1711859: 4.0, 1714116: 3.0, 1719610: 2.0, 1723381: 5.0, 1727869: 5.0, 1733188: 4.0, 1733406: 4.0, 1737484: 4.0, 1739170: 5.0, 1743030: 3.0, 1743210: 5.0, 1743759: 4.0, 1751103: 4.0, 1756597: 5.0, 1756658: 3.0, 1759415: 4.0, 1763372: 3.0, 1763921: 5.0, 1771085: 2.0, 1772176: 3.0, 1772839: 5.0, 1774623: 4.0, 1776980: 5.0, 1777406: 3.0, 1779903: 4.0, 1782762: 4.0, 1783594: 5.0, 1784150: 4.0, 1785842: 3.0, 1790158: 4.0, 1790903: 4.0, 1792741: 2.0, 1793899: 5.0, 1803154: 2.0, 1805202: 4.0, 1806515: 3.0, 1807053: 5.0, 1813349: 4.0, 1815755: 5.0, 1817215: 4.0, 1817216: 2.0, 1819146: 5.0, 1819474: 3.0, 1823641: 5.0, 1824044: 4.0, 1824543: 4.0, 1824586: 4.0, 1828884: 5.0, 1830211: 4.0, 1832577: 4.0, 1834472: 3.0, 1834590: 3.0, 1838586: 1.0, 1838912: 3.0, 1839976: 2.0, 1842128: 4.0, 1850615: 2.0, 1852606: 4.0, 1853885: 4.0, 1854303: 1.0, 1857979: 2.0, 1859725: 4.0, 1862581: 4.0, 1863843: 2.0, 1871179: 3.0, 1873429: 4.0, 1874547: 4.0, 1875495: 2.0, 1876297: 5.0, 1877347: 4.0, 1878728: 4.0, 1878798: 4.0, 1884755: 2.0, 1888322: 5.0, 1903158: 4.0, 1904905: 4.0, 1905581: 5.0, 1906145: 4.0, 1910569: 4.0, 1915354: 4.0, 1918987: 4.0, 1922778: 3.0, 1922925: 4.0, 1924939: 4.0, 1926776: 1.0, 1927329: 5.0, 1927580: 4.0, 1927897: 5.0, 1929487: 3.0, 1931698: 2.0, 1935793: 1.0, 1938559: 5.0, 1939663: 4.0, 1940163: 4.0, 1943970: 5.0, 1947922: 2.0, 1952116: 4.0, 1956967: 4.0, 1959707: 3.0, 1959936: 5.0, 1961619: 5.0, 1962300: 3.0, 1969676: 5.0, 1972040: 4.0, 1977959: 4.0, 1980668: 5.0, 1981464: 4.0, 1983667: 2.0, 1989766: 4.0, 1994111: 4.0, 1995318: 3.0, 2003554: 4.0, 2005193: 4.0, 2010770: 4.0, 2011399: 5.0, 2013198: 4.0, 2013504: 4.0, 2016488: 4.0, 2019055: 5.0, 2025577: 3.0, 2025883: 5.0, 2031093: 4.0, 2031561: 4.0, 2040859: 1.0, 2047577: 3.0, 2054145: 3.0, 2054180: 3.0, 2056022: 3.0, 2059652: 4.0, 2060858: 4.0, 2065639: 4.0, 2068821: 3.0, 2072554: 5.0, 2078679: 5.0, 2079559: 5.0, 2088415: 4.0, 2090477: 4.0, 2093105: 3.0, 2095263: 4.0, 2095681: 2.0, 2096587: 5.0, 2103439: 2.0, 2103655: 3.0, 2112162: 4.0, 2118461: 4.5, 2120279: 5.0, 2126122: 4.0, 2126192: 3.0, 2135038: 4.0, 2143489: 1.0, 2145227: 4.0, 2147527: 1.0, 2148699: 2.0, 2151149: 4.0, 2152838: 5.0, 2158065: 4.0, 2158448: 5.0, 2162676: 3.0, 2164676: 4.0, 2165002: 4.0, 2173816: 1.0, 2179073: 3.0, 2186436: 2.0, 2191781: 1.0, 2193643: 5.0, 2203875: 4.0, 2207647: 4.0, 2207774: 5.0, 2212071: 3.0, 2213289: 5.0, 2213550: 4.0, 2217779: 4.0, 2225116: 4.0, 2226229: 3.0, 2226525: 4.0, 2229289: 4.0, 2231529: 3.0, 2232958: 4.0, 2233105: 4.0, 2234063: 4.0, 2238063: 3.0, 2239213: 3.0, 2240742: 5.0, 2242821: 5.0, 2244378: 4.0, 2244518: 5.0, 2252223: 5.0, 2255037: 3.0, 2256485: 1.0, 2260684: 4.0, 2263586: 4.0, 2265116: 3.0, 2266857: 3.0, 2267507: 4.0, 2267858: 3.0, 2268101: 4.0, 2269844: 5.0, 2271251: 5.0, 2275470: 2.0, 2277395: 4.0, 2279000: 3.0, 2283366: 3.0, 2287003: 5.0, 2289956: 5.0, 2291306: 1.0, 2291422: 1.0, 2297863: 4.0, 2301782: 4.0, 2305014: 5.0, 2312349: 4.0, 2314531: 4.0, 2315073: 4.0, 2322840: 3.0, 2329565: 4.0, 2333817: 3.0, 2338873: 5.0, 2344483: 4.0, 2345723: 4.0, 2352327: 4.0, 2354601: 5.0, 2354740: 5.0, 2368791: 3.0, 2370268: 4.0, 2374451: 4.0, 2375962: 3.0, 2378011: 5.0, 2380806: 5.0, 2380848: 5.0, 2381599: 3.0, 2385553: 5.0, 2385706: 4.0, 2385774: 3.0, 2389367: 1.0, 2390644: 3.0, 2393306: 4.0, 2413320: 4.0, 2418486: 4.0, 2419258: 4.0, 2421360: 5.0, 2421815: 2.0, 2422676: 3.0, 2423091: 3.0, 2424721: 3.0, 2430356: 4.0, 2431481: 3.0, 2436327: 2.0, 2439493: 1.0, 2441707: 3.0, 2443370: 4.0, 2444240: 3.0, 2446687: 5.0, 2450433: 3.0, 2451020: 4.0, 2463079: 3.0, 2464081: 4.0, 2465337: 3.0, 2467008: 4.0, 2468831: 5.0, 2472440: 3.0, 2475251: 4.0, 2477242: 5.0, 2485566: 5.0, 2488120: 5.0, 2491399: 2.0, 2491785: 5.0, 2494005: 2.0, 2494367: 2.0, 2495200: 5.0, 2497991: 4.0, 2508819: 3.0, 2519847: 5.0, 2529547: 5.0, 2530404: 3.0, 2532807: 3.0, 2537076: 4.0, 2537543: 5.0, 2537764: 5.0, 2539549: 3.0, 2544219: 5.0, 2554707: 4.0, 2554745: 4.0, 2554942: 4.0, 2556926: 3.0, 2557870: 4.0, 2563596: 4.0, 2563768: 3.0, 2564257: 3.0, 2565654: 5.0, 2565752: 4.0, 2566259: 5.0, 2567280: 3.0, 2569099: 1.0, 2576108: 1.0, 2576424: 4.0, 2579794: 4.0, 2583822: 5.0, 2584676: 3.0, 2586963: 4.0, 2588432: 3.0, 2590061: 3.0, 2590630: 3.0, 2592823: 4.0, 2596383: 3.0, 2596999: 4.0, 2599552: 4.0, 2601294: 4.0, 2603381: 5.0, 2605190: 5.0, 2606799: 1.0, 2607300: 3.0, 2609436: 4.0, 2611525: 3.0, 2618594: 4.0, 2622138: 1.0, 2623268: 4.0, 2625019: 3.0, 2625420: 2.0, 2630072: 3.0, 2630337: 5.0, 2630797: 5.0, 2631796: 4.0, 2632461: 3.0, 2635437: 4.0, 2640085: 5.0, 2646060: 3.0, 2646115: 3.0, 2647871: 4.0, 2648861: 3.0}\n"
     ]
    }
   ],
   "source": [
    "rating_medi = {}\n",
    "# calcolo rating medio senza considerare gli 0\n",
    "for i in ratings_matrix.iterrows():\n",
    "        #print(i[0])\n",
    "        count = 0\n",
    "        countn = 0\n",
    "        for j in i[1].values:\n",
    "            if j != 0:\n",
    "                  count += j\n",
    "                  countn += 1\n",
    "        rating_medi[i[0]] = count/countn\n",
    "print(rating_medi[1333])\n",
    "print(rating_medi)"
   ]
  },
  {
   "cell_type": "code",
   "execution_count": 41,
   "metadata": {},
   "outputs": [],
   "source": [
    "# Definire la funzione per il calcolo della similarità tra utenti utilizzando la person coefficent\n",
    "similarità = {}\n",
    "def user_similarity(ratings,user_target):\n",
    "    # scorro UTENTI\n",
    "    for i in ratings.iterrows():\n",
    "        # se l'UTENTE è diverso dall'utente target\n",
    "        #print(i[0])\n",
    "        if i[0] != id_user_target:\n",
    "            # calcolo similarità\n",
    "            #print(i[1].values[0])\n",
    "            numeratore = 0\n",
    "            denominatoreP1 = 0\n",
    "            denominatoreP2 = 0\n",
    "            for j in range(len(i[1].values)):\n",
    "                numeratore += (i[1].values[j]-rating_medi[i[0]])*(user_target.values[j]-rating_medi[id_user_target])\n",
    "                denominatoreP1 += (i[1].values[j]-rating_medi[i[0]])**2\n",
    "                denominatoreP2 +=(user_target.values[j]-rating_medi[id_user_target])**2\n",
    "            sim = numeratore/(math.sqrt(denominatoreP1)*math.sqrt(denominatoreP2))\n",
    "            similarità[(i[0],id_user_target)] = sim\n",
    "\n",
    "# Calcolare la similarità tra utenti\n",
    "user_similarity(ratings_matrix,user_target)"
   ]
  },
  {
   "cell_type": "code",
   "execution_count": 42,
   "metadata": {},
   "outputs": [
    {
     "ename": "KeyError",
     "evalue": "7",
     "output_type": "error",
     "traceback": [
      "\u001b[0;31m---------------------------------------------------------------------------\u001b[0m",
      "\u001b[0;31mKeyError\u001b[0m                                  Traceback (most recent call last)",
      "\u001b[0;32m~/.local/lib/python3.10/site-packages/pandas/core/indexes/base.py\u001b[0m in \u001b[0;36mget_loc\u001b[0;34m(self, key, method, tolerance)\u001b[0m\n\u001b[1;32m   3801\u001b[0m             \u001b[0;32mtry\u001b[0m\u001b[0;34m:\u001b[0m\u001b[0;34m\u001b[0m\u001b[0;34m\u001b[0m\u001b[0m\n\u001b[0;32m-> 3802\u001b[0;31m                 \u001b[0;32mreturn\u001b[0m \u001b[0mself\u001b[0m\u001b[0;34m.\u001b[0m\u001b[0m_engine\u001b[0m\u001b[0;34m.\u001b[0m\u001b[0mget_loc\u001b[0m\u001b[0;34m(\u001b[0m\u001b[0mcasted_key\u001b[0m\u001b[0;34m)\u001b[0m\u001b[0;34m\u001b[0m\u001b[0;34m\u001b[0m\u001b[0m\n\u001b[0m\u001b[1;32m   3803\u001b[0m             \u001b[0;32mexcept\u001b[0m \u001b[0mKeyError\u001b[0m \u001b[0;32mas\u001b[0m \u001b[0merr\u001b[0m\u001b[0;34m:\u001b[0m\u001b[0;34m\u001b[0m\u001b[0;34m\u001b[0m\u001b[0m\n",
      "\u001b[0;32m~/.local/lib/python3.10/site-packages/pandas/_libs/index.pyx\u001b[0m in \u001b[0;36mpandas._libs.index.IndexEngine.get_loc\u001b[0;34m()\u001b[0m\n",
      "\u001b[0;32m~/.local/lib/python3.10/site-packages/pandas/_libs/index.pyx\u001b[0m in \u001b[0;36mpandas._libs.index.IndexEngine.get_loc\u001b[0;34m()\u001b[0m\n",
      "\u001b[0;32mpandas/_libs/hashtable_class_helper.pxi\u001b[0m in \u001b[0;36mpandas._libs.hashtable.Int64HashTable.get_item\u001b[0;34m()\u001b[0m\n",
      "\u001b[0;32mpandas/_libs/hashtable_class_helper.pxi\u001b[0m in \u001b[0;36mpandas._libs.hashtable.Int64HashTable.get_item\u001b[0;34m()\u001b[0m\n",
      "\u001b[0;31mKeyError\u001b[0m: 7",
      "\nThe above exception was the direct cause of the following exception:\n",
      "\u001b[0;31mKeyError\u001b[0m                                  Traceback (most recent call last)",
      "\u001b[0;32m/tmp/ipykernel_9865/103837988.py\u001b[0m in \u001b[0;36m<module>\u001b[0;34m\u001b[0m\n\u001b[0;32m----> 1\u001b[0;31m \u001b[0mutenteSimileUno\u001b[0m \u001b[0;34m=\u001b[0m \u001b[0mratings_matrix\u001b[0m\u001b[0;34m.\u001b[0m\u001b[0mloc\u001b[0m\u001b[0;34m[\u001b[0m\u001b[0;36m7\u001b[0m\u001b[0;34m]\u001b[0m\u001b[0;34m\u001b[0m\u001b[0;34m\u001b[0m\u001b[0m\n\u001b[0m\u001b[1;32m      2\u001b[0m \u001b[0mutenteSimileDue\u001b[0m \u001b[0;34m=\u001b[0m \u001b[0mratings_matrix\u001b[0m\u001b[0;34m.\u001b[0m\u001b[0mloc\u001b[0m\u001b[0;34m[\u001b[0m\u001b[0;36m1333\u001b[0m\u001b[0;34m]\u001b[0m\u001b[0;34m\u001b[0m\u001b[0;34m\u001b[0m\u001b[0m\n\u001b[1;32m      3\u001b[0m \u001b[0;31m#print(utenteSimileUno)\u001b[0m\u001b[0;34m\u001b[0m\u001b[0;34m\u001b[0m\u001b[0m\n\u001b[1;32m      4\u001b[0m \u001b[0;31m#print(utenteSimileDue)\u001b[0m\u001b[0;34m\u001b[0m\u001b[0;34m\u001b[0m\u001b[0m\n\u001b[1;32m      5\u001b[0m \u001b[0;32mfor\u001b[0m \u001b[0mi\u001b[0m \u001b[0;32min\u001b[0m \u001b[0mrange\u001b[0m\u001b[0;34m(\u001b[0m\u001b[0mlen\u001b[0m\u001b[0;34m(\u001b[0m\u001b[0mutenteSimileUno\u001b[0m\u001b[0;34m)\u001b[0m\u001b[0;34m)\u001b[0m\u001b[0;34m:\u001b[0m\u001b[0;34m\u001b[0m\u001b[0;34m\u001b[0m\u001b[0m\n",
      "\u001b[0;32m~/.local/lib/python3.10/site-packages/pandas/core/indexing.py\u001b[0m in \u001b[0;36m__getitem__\u001b[0;34m(self, key)\u001b[0m\n\u001b[1;32m   1071\u001b[0m \u001b[0;34m\u001b[0m\u001b[0m\n\u001b[1;32m   1072\u001b[0m             \u001b[0mmaybe_callable\u001b[0m \u001b[0;34m=\u001b[0m \u001b[0mcom\u001b[0m\u001b[0;34m.\u001b[0m\u001b[0mapply_if_callable\u001b[0m\u001b[0;34m(\u001b[0m\u001b[0mkey\u001b[0m\u001b[0;34m,\u001b[0m \u001b[0mself\u001b[0m\u001b[0;34m.\u001b[0m\u001b[0mobj\u001b[0m\u001b[0;34m)\u001b[0m\u001b[0;34m\u001b[0m\u001b[0;34m\u001b[0m\u001b[0m\n\u001b[0;32m-> 1073\u001b[0;31m             \u001b[0;32mreturn\u001b[0m \u001b[0mself\u001b[0m\u001b[0;34m.\u001b[0m\u001b[0m_getitem_axis\u001b[0m\u001b[0;34m(\u001b[0m\u001b[0mmaybe_callable\u001b[0m\u001b[0;34m,\u001b[0m \u001b[0maxis\u001b[0m\u001b[0;34m=\u001b[0m\u001b[0maxis\u001b[0m\u001b[0;34m)\u001b[0m\u001b[0;34m\u001b[0m\u001b[0;34m\u001b[0m\u001b[0m\n\u001b[0m\u001b[1;32m   1074\u001b[0m \u001b[0;34m\u001b[0m\u001b[0m\n\u001b[1;32m   1075\u001b[0m     \u001b[0;32mdef\u001b[0m \u001b[0m_is_scalar_access\u001b[0m\u001b[0;34m(\u001b[0m\u001b[0mself\u001b[0m\u001b[0;34m,\u001b[0m \u001b[0mkey\u001b[0m\u001b[0;34m:\u001b[0m \u001b[0mtuple\u001b[0m\u001b[0;34m)\u001b[0m\u001b[0;34m:\u001b[0m\u001b[0;34m\u001b[0m\u001b[0;34m\u001b[0m\u001b[0m\n",
      "\u001b[0;32m~/.local/lib/python3.10/site-packages/pandas/core/indexing.py\u001b[0m in \u001b[0;36m_getitem_axis\u001b[0;34m(self, key, axis)\u001b[0m\n\u001b[1;32m   1310\u001b[0m         \u001b[0;31m# fall thru to straight lookup\u001b[0m\u001b[0;34m\u001b[0m\u001b[0;34m\u001b[0m\u001b[0m\n\u001b[1;32m   1311\u001b[0m         \u001b[0mself\u001b[0m\u001b[0;34m.\u001b[0m\u001b[0m_validate_key\u001b[0m\u001b[0;34m(\u001b[0m\u001b[0mkey\u001b[0m\u001b[0;34m,\u001b[0m \u001b[0maxis\u001b[0m\u001b[0;34m)\u001b[0m\u001b[0;34m\u001b[0m\u001b[0;34m\u001b[0m\u001b[0m\n\u001b[0;32m-> 1312\u001b[0;31m         \u001b[0;32mreturn\u001b[0m \u001b[0mself\u001b[0m\u001b[0;34m.\u001b[0m\u001b[0m_get_label\u001b[0m\u001b[0;34m(\u001b[0m\u001b[0mkey\u001b[0m\u001b[0;34m,\u001b[0m \u001b[0maxis\u001b[0m\u001b[0;34m=\u001b[0m\u001b[0maxis\u001b[0m\u001b[0;34m)\u001b[0m\u001b[0;34m\u001b[0m\u001b[0;34m\u001b[0m\u001b[0m\n\u001b[0m\u001b[1;32m   1313\u001b[0m \u001b[0;34m\u001b[0m\u001b[0m\n\u001b[1;32m   1314\u001b[0m     \u001b[0;32mdef\u001b[0m \u001b[0m_get_slice_axis\u001b[0m\u001b[0;34m(\u001b[0m\u001b[0mself\u001b[0m\u001b[0;34m,\u001b[0m \u001b[0mslice_obj\u001b[0m\u001b[0;34m:\u001b[0m \u001b[0mslice\u001b[0m\u001b[0;34m,\u001b[0m \u001b[0maxis\u001b[0m\u001b[0;34m:\u001b[0m \u001b[0mint\u001b[0m\u001b[0;34m)\u001b[0m\u001b[0;34m:\u001b[0m\u001b[0;34m\u001b[0m\u001b[0;34m\u001b[0m\u001b[0m\n",
      "\u001b[0;32m~/.local/lib/python3.10/site-packages/pandas/core/indexing.py\u001b[0m in \u001b[0;36m_get_label\u001b[0;34m(self, label, axis)\u001b[0m\n\u001b[1;32m   1258\u001b[0m     \u001b[0;32mdef\u001b[0m \u001b[0m_get_label\u001b[0m\u001b[0;34m(\u001b[0m\u001b[0mself\u001b[0m\u001b[0;34m,\u001b[0m \u001b[0mlabel\u001b[0m\u001b[0;34m,\u001b[0m \u001b[0maxis\u001b[0m\u001b[0;34m:\u001b[0m \u001b[0mint\u001b[0m\u001b[0;34m)\u001b[0m\u001b[0;34m:\u001b[0m\u001b[0;34m\u001b[0m\u001b[0;34m\u001b[0m\u001b[0m\n\u001b[1;32m   1259\u001b[0m         \u001b[0;31m# GH#5567 this will fail if the label is not present in the axis.\u001b[0m\u001b[0;34m\u001b[0m\u001b[0;34m\u001b[0m\u001b[0m\n\u001b[0;32m-> 1260\u001b[0;31m         \u001b[0;32mreturn\u001b[0m \u001b[0mself\u001b[0m\u001b[0;34m.\u001b[0m\u001b[0mobj\u001b[0m\u001b[0;34m.\u001b[0m\u001b[0mxs\u001b[0m\u001b[0;34m(\u001b[0m\u001b[0mlabel\u001b[0m\u001b[0;34m,\u001b[0m \u001b[0maxis\u001b[0m\u001b[0;34m=\u001b[0m\u001b[0maxis\u001b[0m\u001b[0;34m)\u001b[0m\u001b[0;34m\u001b[0m\u001b[0;34m\u001b[0m\u001b[0m\n\u001b[0m\u001b[1;32m   1261\u001b[0m \u001b[0;34m\u001b[0m\u001b[0m\n\u001b[1;32m   1262\u001b[0m     \u001b[0;32mdef\u001b[0m \u001b[0m_handle_lowerdim_multi_index_axis0\u001b[0m\u001b[0;34m(\u001b[0m\u001b[0mself\u001b[0m\u001b[0;34m,\u001b[0m \u001b[0mtup\u001b[0m\u001b[0;34m:\u001b[0m \u001b[0mtuple\u001b[0m\u001b[0;34m)\u001b[0m\u001b[0;34m:\u001b[0m\u001b[0;34m\u001b[0m\u001b[0;34m\u001b[0m\u001b[0m\n",
      "\u001b[0;32m~/.local/lib/python3.10/site-packages/pandas/core/generic.py\u001b[0m in \u001b[0;36mxs\u001b[0;34m(self, key, axis, level, drop_level)\u001b[0m\n\u001b[1;32m   4054\u001b[0m                     \u001b[0mnew_index\u001b[0m \u001b[0;34m=\u001b[0m \u001b[0mindex\u001b[0m\u001b[0;34m[\u001b[0m\u001b[0mloc\u001b[0m\u001b[0;34m]\u001b[0m\u001b[0;34m\u001b[0m\u001b[0;34m\u001b[0m\u001b[0m\n\u001b[1;32m   4055\u001b[0m         \u001b[0;32melse\u001b[0m\u001b[0;34m:\u001b[0m\u001b[0;34m\u001b[0m\u001b[0;34m\u001b[0m\u001b[0m\n\u001b[0;32m-> 4056\u001b[0;31m             \u001b[0mloc\u001b[0m \u001b[0;34m=\u001b[0m \u001b[0mindex\u001b[0m\u001b[0;34m.\u001b[0m\u001b[0mget_loc\u001b[0m\u001b[0;34m(\u001b[0m\u001b[0mkey\u001b[0m\u001b[0;34m)\u001b[0m\u001b[0;34m\u001b[0m\u001b[0;34m\u001b[0m\u001b[0m\n\u001b[0m\u001b[1;32m   4057\u001b[0m \u001b[0;34m\u001b[0m\u001b[0m\n\u001b[1;32m   4058\u001b[0m             \u001b[0;32mif\u001b[0m \u001b[0misinstance\u001b[0m\u001b[0;34m(\u001b[0m\u001b[0mloc\u001b[0m\u001b[0;34m,\u001b[0m \u001b[0mnp\u001b[0m\u001b[0;34m.\u001b[0m\u001b[0mndarray\u001b[0m\u001b[0;34m)\u001b[0m\u001b[0;34m:\u001b[0m\u001b[0;34m\u001b[0m\u001b[0;34m\u001b[0m\u001b[0m\n",
      "\u001b[0;32m~/.local/lib/python3.10/site-packages/pandas/core/indexes/base.py\u001b[0m in \u001b[0;36mget_loc\u001b[0;34m(self, key, method, tolerance)\u001b[0m\n\u001b[1;32m   3802\u001b[0m                 \u001b[0;32mreturn\u001b[0m \u001b[0mself\u001b[0m\u001b[0;34m.\u001b[0m\u001b[0m_engine\u001b[0m\u001b[0;34m.\u001b[0m\u001b[0mget_loc\u001b[0m\u001b[0;34m(\u001b[0m\u001b[0mcasted_key\u001b[0m\u001b[0;34m)\u001b[0m\u001b[0;34m\u001b[0m\u001b[0;34m\u001b[0m\u001b[0m\n\u001b[1;32m   3803\u001b[0m             \u001b[0;32mexcept\u001b[0m \u001b[0mKeyError\u001b[0m \u001b[0;32mas\u001b[0m \u001b[0merr\u001b[0m\u001b[0;34m:\u001b[0m\u001b[0;34m\u001b[0m\u001b[0;34m\u001b[0m\u001b[0m\n\u001b[0;32m-> 3804\u001b[0;31m                 \u001b[0;32mraise\u001b[0m \u001b[0mKeyError\u001b[0m\u001b[0;34m(\u001b[0m\u001b[0mkey\u001b[0m\u001b[0;34m)\u001b[0m \u001b[0;32mfrom\u001b[0m \u001b[0merr\u001b[0m\u001b[0;34m\u001b[0m\u001b[0;34m\u001b[0m\u001b[0m\n\u001b[0m\u001b[1;32m   3805\u001b[0m             \u001b[0;32mexcept\u001b[0m \u001b[0mTypeError\u001b[0m\u001b[0;34m:\u001b[0m\u001b[0;34m\u001b[0m\u001b[0;34m\u001b[0m\u001b[0m\n\u001b[1;32m   3806\u001b[0m                 \u001b[0;31m# If we have a listlike key, _check_indexing_error will raise\u001b[0m\u001b[0;34m\u001b[0m\u001b[0;34m\u001b[0m\u001b[0m\n",
      "\u001b[0;31mKeyError\u001b[0m: 7"
     ]
    }
   ],
   "source": [
    "utenteSimileUno = ratings_matrix.loc[7]\n",
    "utenteSimileDue = ratings_matrix.loc[1333]\n",
    "#print(utenteSimileUno)\n",
    "#print(utenteSimileDue)\n",
    "for i in range(len(utenteSimileUno)):\n",
    "    if utenteSimileUno.values[i] != utenteSimileDue.values[i]:\n",
    "        print(utenteSimileDue.values[i])\n",
    "        print(utenteSimileDue.values[i])\n"
   ]
  },
  {
   "cell_type": "code",
   "execution_count": 43,
   "metadata": {},
   "outputs": [
    {
     "ename": "KeyError",
     "evalue": "(7, 1333)",
     "output_type": "error",
     "traceback": [
      "\u001b[0;31m---------------------------------------------------------------------------\u001b[0m",
      "\u001b[0;31mKeyError\u001b[0m                                  Traceback (most recent call last)",
      "\u001b[0;32m/tmp/ipykernel_9865/2030050530.py\u001b[0m in \u001b[0;36m<module>\u001b[0;34m\u001b[0m\n\u001b[0;32m----> 1\u001b[0;31m \u001b[0mprint\u001b[0m\u001b[0;34m(\u001b[0m\u001b[0msimilarità\u001b[0m\u001b[0;34m[\u001b[0m\u001b[0;34m(\u001b[0m\u001b[0;36m7\u001b[0m\u001b[0;34m,\u001b[0m\u001b[0;36m1333\u001b[0m\u001b[0;34m)\u001b[0m\u001b[0;34m]\u001b[0m\u001b[0;34m)\u001b[0m\u001b[0;34m\u001b[0m\u001b[0;34m\u001b[0m\u001b[0m\n\u001b[0m",
      "\u001b[0;31mKeyError\u001b[0m: (7, 1333)"
     ]
    }
   ],
   "source": [
    "print(similarità[(7,1333)])"
   ]
  },
  {
   "cell_type": "code",
   "execution_count": 44,
   "metadata": {},
   "outputs": [
    {
     "name": "stdout",
     "output_type": "stream",
     "text": [
      "{(6689, 1333): 0.9999999999999998, (21983, 1333): 0.9999999999999998, (24344, 1333): 0.9999999999999998, (41371, 1333): 0.9999999999999998, (44783, 1333): 1.0, (44937, 1333): 0.9999999999999998, (51230, 1333): 0.9999999999999998, (52540, 1333): 0.9999999999999998, (66414, 1333): 0.9999999999999998, (67315, 1333): 0.9999999999999998, (77266, 1333): 0.9999999999999998, (78931, 1333): 0.9999999999999998, (79160, 1333): 0.9999999999999998, (104768, 1333): 0.9999999999999998, (108052, 1333): 0.9999999999999998, (109089, 1333): 0.9999999999999998, (115498, 1333): 1.0, (153249, 1333): 0.9999999999999998, (156078, 1333): 0.9999999999999998, (162854, 1333): 0.9999999999999998, (166100, 1333): 0.9999999999999998, (175763, 1333): 0.9999999999999998, (183215, 1333): 0.9999999999999998, (188416, 1333): 1.0, (199769, 1333): 0.9999999999999998, (203667, 1333): 0.9999999999999998, (206809, 1333): 0.9999999999999998, (209549, 1333): 0.9999999999999998, (213541, 1333): 1.0, (214166, 1333): 1.0, (215406, 1333): 0.9999999999999998, (244266, 1333): 1.0, (247940, 1333): 0.9999999999999998, (248932, 1333): 0.9999999999999998, (250836, 1333): 1.0, (253037, 1333): 1.0, (253876, 1333): 0.9999999999999998, (257517, 1333): 0.9999999999999998, (283774, 1333): 0.9999999999999998, (290951, 1333): 0.9999999999999998, (297498, 1333): 0.9999999999999998, (309333, 1333): 0.9999999999999998, (309567, 1333): 0.9999999999999998, (311641, 1333): 0.9999999999999998, (323148, 1333): 1.0, (341954, 1333): 0.9999999999999998, (345869, 1333): 0.9999999999999998, (357507, 1333): 1.0, (369761, 1333): 1.0, (372528, 1333): 1.0, (375319, 1333): 0.9999999999999998, (376148, 1333): 0.9999999999999998, (386510, 1333): 0.9999999999999998, (393413, 1333): 1.0, (402377, 1333): 0.9999999999999998, (410537, 1333): 0.9999999999999998, (425033, 1333): 1.0, (439011, 1333): 0.9999999999999998, (445828, 1333): 0.9999999999999998, (454417, 1333): 0.9999999999999998, (478176, 1333): 0.9999999999999998, (479779, 1333): 0.9999999999999998, (489962, 1333): 1.0, (514312, 1333): 1.0, (515850, 1333): 0.9999999999999998, (525003, 1333): 0.9999999999999998, (528384, 1333): 0.9999999999999998, (531155, 1333): 0.9999999999999998, (532382, 1333): 0.9999999999999998, (544022, 1333): 1.0, (544496, 1333): 0.9999999999999998, (553931, 1333): 0.9999999999999998, (556045, 1333): 0.9999999999999998, (569099, 1333): 1.0, (574843, 1333): 0.9999999999999998, (581199, 1333): 0.9999999999999998, (603277, 1333): 1.0, (604949, 1333): 0.9999999999999998, (616720, 1333): 0.9999999999999998, (619721, 1333): 0.9999999999999998, (620147, 1333): 0.9999999999999998, (620771, 1333): 0.9999999999999998, (636475, 1333): 1.0, (656399, 1333): 0.9999999999999998, (660454, 1333): 0.9999999999999998, (672980, 1333): 0.9999999999999998, (697945, 1333): 0.9999999999999998, (699878, 1333): 0.9999999999999998, (701730, 1333): 0.9999999999999998, (704249, 1333): 0.9999999999999998, (709342, 1333): 0.9999999999999998, (712664, 1333): 0.9999999999999998, (714550, 1333): 0.9999999999999998, (714960, 1333): 0.9999999999999998, (719833, 1333): 0.9999999999999998, (722006, 1333): 0.9999999999999998, (727242, 1333): 0.9999999999999998, (755319, 1333): 1.0, (770921, 1333): 0.9999999999999998, (780282, 1333): 0.9999999999999998, (788774, 1333): 0.9999999999999998, (790920, 1333): 1.0, (793228, 1333): 0.9999999999999998, (811218, 1333): 0.9999999999999998, (817851, 1333): 0.9999999999999998, (820624, 1333): 0.9999999999999998, (851855, 1333): 0.9999999999999998, (870391, 1333): 0.9999999999999998, (871489, 1333): 0.9999999999999998, (871548, 1333): 0.9999999999999998, (871580, 1333): 1.0, (917063, 1333): 0.9999999999999998, (920625, 1333): 0.9999999999999998, (924839, 1333): 0.9999999999999998, (931626, 1333): 0.9999999999999998, (946970, 1333): 0.9999999999999998, (948069, 1333): 1.0, (958104, 1333): 0.9999999999999998, (958382, 1333): 0.9999999999999998, (962955, 1333): 0.9999999999999998, (966255, 1333): 0.9999999999999998, (968765, 1333): 0.9999999999999998, (968796, 1333): 1.0, (975874, 1333): 0.9999999999999998, (976059, 1333): 1.0, (979820, 1333): 0.9999999999999998, (1007809, 1333): 0.9999999999999998, (1022903, 1333): 0.9999999999999998, (1023101, 1333): 1.0, (1025579, 1333): 0.9999999999999998, (1033433, 1333): 0.9999999999999998, (1036823, 1333): 1.0, (1045221, 1333): 0.9999999999999998, (1057518, 1333): 0.9999999999999998, (1065126, 1333): 0.9999999999999998, (1078792, 1333): 0.9999999999999998, (1087412, 1333): 0.9999999999999998, (1094443, 1333): 0.9999999999999998, (1100037, 1333): 1.0, (1100170, 1333): 0.9999999999999998, (1101467, 1333): 0.9999999999999998, (1115632, 1333): 1.0, (1124822, 1333): 0.9999999999999998, (1130826, 1333): 1.0, (1134816, 1333): 0.9999999999999998, (1142291, 1333): 0.9999999999999998, (1195585, 1333): 0.9999999999999998, (1197233, 1333): 0.9999999999999998, (1198785, 1333): 0.9999999999999998, (1204327, 1333): 0.9999999999999998, (1206452, 1333): 0.9999999999999998, (1213801, 1333): 1.0, (1221390, 1333): 0.9999999999999998, (1231910, 1333): 1.0, (1248452, 1333): 1.0, (1275804, 1333): 0.9999999999999998, (1278394, 1333): 0.9999999999999998, (1281996, 1333): 0.9999999999999998, (1283965, 1333): 0.9999999999999998, (1286051, 1333): 1.0, (1319527, 1333): 0.9999999999999998, (1331154, 1333): 0.9999999999999998, (1355097, 1333): 0.9999999999999998, (1394444, 1333): 0.9999999999999998, (1401399, 1333): 0.9999999999999998, (1406148, 1333): 1.0, (1407746, 1333): 1.0, (1436762, 1333): 1.0, (1455472, 1333): 0.9999999999999998, (1456369, 1333): 0.9999999999999998, (1477923, 1333): 0.9999999999999998, (1478381, 1333): 0.9999999999999998, (1479047, 1333): 0.9999999999999998, (1479793, 1333): 1.0, (1511683, 1333): 0.9999999999999998, (1544094, 1333): 0.9999999999999998, (1545189, 1333): 0.9999999999999998, (1562675, 1333): 0.9999999999999998, (1586499, 1333): 1.0, (1589677, 1333): 0.9999999999999998, (1594095, 1333): 0.9999999999999998, (1599030, 1333): 0.9999999999999998, (1607574, 1333): 0.9999999999999998, (1614320, 1333): 0.9999999999999998, (1614895, 1333): 0.9999999999999998, (1628475, 1333): 0.9999999999999998, (1632700, 1333): 0.9999999999999998, (1644750, 1333): 1.0, (1650301, 1333): 0.9999999999999998, (1658752, 1333): 1.0, (1666581, 1333): 0.9999999999999998, (1673185, 1333): 1.0, (1689439, 1333): 0.9999999999999998, (1694958, 1333): 1.0, (1704175, 1333): 0.9999999999999998, (1710932, 1333): 1.0, (1733188, 1333): 0.9999999999999998, (1733406, 1333): 0.9999999999999998, (1737484, 1333): 0.9999999999999998, (1743030, 1333): 1.0, (1756597, 1333): 0.9999999999999998, (1756658, 1333): 1.0, (1763372, 1333): 1.0, (1771085, 1333): 0.9999999999999998, (1813349, 1333): 0.9999999999999998, (1817216, 1333): 0.9999999999999998, (1830211, 1333): 0.9999999999999998, (1834472, 1333): 1.0, (1853885, 1333): 0.9999999999999998, (1854303, 1333): 0.9999999999999998, (1857979, 1333): 0.9999999999999998, (1859725, 1333): 0.9999999999999998, (1863843, 1333): 0.9999999999999998, (1915354, 1333): 0.9999999999999998, (1924939, 1333): 0.9999999999999998, (1927329, 1333): 0.9999999999999998, (1927897, 1333): 0.9999999999999998, (1929487, 1333): 1.0, (1931698, 1333): 0.9999999999999998, (1938559, 1333): 0.9999999999999998, (1939663, 1333): 0.9999999999999998, (1940163, 1333): 0.9999999999999998, (1947922, 1333): 0.9999999999999998, (1956967, 1333): 0.9999999999999998, (1959707, 1333): 1.0, (1969676, 1333): 0.9999999999999998, (1977959, 1333): 0.9999999999999998, (1983667, 1333): 0.9999999999999998, (1995318, 1333): 1.0, (2003554, 1333): 0.9999999999999998, (2013198, 1333): 0.9999999999999998, (2025577, 1333): 1.0, (2031561, 1333): 0.9999999999999998, (2065639, 1333): 0.9999999999999998, (2068821, 1333): 1.0, (2079559, 1333): 0.9999999999999998, (2095263, 1333): 0.9999999999999998, (2096587, 1333): 0.9999999999999998, (2103655, 1333): 1.0, (2120279, 1333): 0.9999999999999998, (2126122, 1333): 0.9999999999999998, (2135038, 1333): 0.9999999999999998, (2143489, 1333): 0.9999999999999998, (2145227, 1333): 0.9999999999999998, (2152838, 1333): 0.9999999999999998, (2158065, 1333): 0.9999999999999998, (2158448, 1333): 0.9999999999999998, (2164676, 1333): 0.9999999999999998, (2173816, 1333): 0.9999999999999998, (2186436, 1333): 0.9999999999999998, (2193643, 1333): 0.9999999999999998, (2203875, 1333): 0.9999999999999998, (2213289, 1333): 0.9999999999999998, (2213550, 1333): 0.9999999999999998, (2229289, 1333): 0.9999999999999998, (2232958, 1333): 0.9999999999999998, (2240742, 1333): 0.9999999999999998, (2252223, 1333): 0.9999999999999998, (2266857, 1333): 1.0, (2267507, 1333): 0.9999999999999998, (2267858, 1333): 1.0, (2297863, 1333): 0.9999999999999998, (2301782, 1333): 0.9999999999999998, (2312349, 1333): 0.9999999999999998, (2338873, 1333): 0.9999999999999998, (2344483, 1333): 0.9999999999999998, (2352327, 1333): 0.9999999999999998, (2368791, 1333): 1.0, (2370268, 1333): 0.9999999999999998, (2378011, 1333): 0.9999999999999998, (2385706, 1333): 0.9999999999999998, (2393306, 1333): 0.9999999999999998, (2424721, 1333): 1.0, (2436327, 1333): 0.9999999999999998, (2441707, 1333): 1.0, (2443370, 1333): 0.9999999999999998, (2446687, 1333): 0.9999999999999998, (2463079, 1333): 1.0, (2467008, 1333): 0.9999999999999998, (2485566, 1333): 0.9999999999999998, (2491399, 1333): 0.9999999999999998, (2494005, 1333): 0.9999999999999998, (2494367, 1333): 0.9999999999999998, (2495200, 1333): 0.9999999999999998, (2519847, 1333): 0.9999999999999998, (2537764, 1333): 0.9999999999999998, (2554707, 1333): 0.9999999999999998, (2554745, 1333): 0.9999999999999998, (2576108, 1333): 0.9999999999999998, (2579794, 1333): 0.9999999999999998, (2586963, 1333): 0.9999999999999998, (2590630, 1333): 1.0, (2596383, 1333): 1.0, (2599552, 1333): 0.9999999999999998, (2601294, 1333): 0.9999999999999998, (2611525, 1333): 1.0, (2622138, 1333): 0.9999999999999998, (2623268, 1333): 0.9999999999999998, (2630072, 1333): 1.0, (2632461, 1333): 1.0, (2646060, 1333): 1.0, (2646115, 1333): 1.0}\n"
     ]
    }
   ],
   "source": [
    "# FACCIO UNA SOGLIO K DI VICINATO SULLA BASE DELLA SIMILARITÀ\n",
    "sim_soglia = {}\n",
    "for i in similarità:\n",
    "    if similarità[i] > 0.96:\n",
    "        sim_soglia[i] = similarità[i]\n",
    "print(sim_soglia)"
   ]
  },
  {
   "attachments": {},
   "cell_type": "markdown",
   "metadata": {},
   "source": [
    "#### Prediction"
   ]
  },
  {
   "cell_type": "code",
   "execution_count": 45,
   "metadata": {},
   "outputs": [],
   "source": [
    "# ITEM PER IL QUALE VOGLIO PREDIRRE RATING\n",
    "id_item_target = 1"
   ]
  },
  {
   "cell_type": "code",
   "execution_count": 46,
   "metadata": {},
   "outputs": [
    {
     "name": "stdout",
     "output_type": "stream",
     "text": [
      "Rating per l item 1 è di 0.35761589403973515 per l utente 1333\n"
     ]
    }
   ],
   "source": [
    "# Definire una funzione per la predizione delle valutazioni utilizzando User-Based Collaborative Filtering\n",
    "def predict_user_based(item,user_similarities,ratings_matrix,rating_medi,id_user_target):\n",
    "    # Calcolare le valutazioni previste\n",
    "    num = 0\n",
    "    den = 0\n",
    "    pred_ratings = 0\n",
    "    # verifico che per quell'item il rating sia 0\n",
    "    if ratings_matrix.loc[id_user_target].values[item] == 0:\n",
    "        for i in user_similarities:\n",
    "            #if ratings_matrix.loc[i[0]].values[item] != 0:\n",
    "            num += (user_similarities[i]* (ratings_matrix.loc[i[0]].values[item]-rating_medi[i[0]]))\n",
    "            den += user_similarities[i]\n",
    "        pred_ratings = rating_medi[id_user_target] + (num / den)\n",
    "        return pred_ratings\n",
    "    else:\n",
    "        return ratings_matrix.loc[id_user_target].values[item]\n",
    "\n",
    "# Ottenere le previsioni per tutte le valutazioni\n",
    "predicted_ratings_user_based = predict_user_based(id_item_target, sim_soglia,ratings_matrix,rating_medi,id_user_target)\n",
    "print(f'Rating per l item {id_item_target} è di {predicted_ratings_user_based} per l utente {id_user_target}')\n"
   ]
  },
  {
   "attachments": {},
   "cell_type": "markdown",
   "metadata": {},
   "source": [
    "### Ranking"
   ]
  },
  {
   "cell_type": "code",
   "execution_count": 47,
   "metadata": {},
   "outputs": [
    {
     "name": "stdout",
     "output_type": "stream",
     "text": [
      "Rating per l item 0 è di 1.8873986630652597 per l utente 1333\n",
      "Rating per l item 1 è di 0.6866514633151461 per l utente 1333\n",
      "Rating per l item 2 è di 4.0 per l utente 1333\n",
      "Rating ESPLICITI per l item 2 è di 4.0 per l utente 1333\n"
     ]
    }
   ],
   "source": [
    "# Ottenere le previsioni per tutte le valutazioni\n",
    "for m in range(len(user_target)):\n",
    "    predicted_ratings_user_based = predict_user_based(m, similarità, ratings_matrix,rating_medi,id_user_target)\n",
    "    if predicted_ratings_user_based > 0:    \n",
    "        print(f'Rating per l item {m} è di {predicted_ratings_user_based} per l utente {id_user_target}')\n",
    "for m in range(len(user_target)):\n",
    "    if user_target.values[m] > 0:\n",
    "        print(f'Rating ESPLICITI per l item {m} è di {user_target.values[m]} per l utente {id_user_target}')\n"
   ]
  },
  {
   "cell_type": "code",
   "execution_count": 48,
   "metadata": {},
   "outputs": [
    {
     "name": "stdout",
     "output_type": "stream",
     "text": [
      "Computing the cosine similarity matrix...\n",
      "Done computing similarity matrix.\n",
      "Computing the cosine similarity matrix...\n",
      "Done computing similarity matrix.\n",
      "Computing the cosine similarity matrix...\n",
      "Done computing similarity matrix.\n",
      "Computing the cosine similarity matrix...\n",
      "Done computing similarity matrix.\n",
      "Computing the cosine similarity matrix...\n",
      "Done computing similarity matrix.\n",
      "Evaluating RMSE, MAE of algorithm KNNBasic on 5 split(s).\n",
      "\n",
      "                  Fold 1  Fold 2  Fold 3  Fold 4  Fold 5  Mean    Std     \n",
      "RMSE (testset)    1.0398  1.0926  1.0525  1.1017  1.1319  1.0837  0.0335  \n",
      "MAE (testset)     0.8637  0.8745  0.8583  0.8581  0.9345  0.8778  0.0290  \n",
      "Fit time          0.05    0.03    0.02    0.01    0.02    0.02    0.01    \n",
      "Test time         0.00    0.00    0.00    0.00    0.00    0.00    0.00    \n"
     ]
    },
    {
     "data": {
      "text/plain": [
       "{'test_rmse': array([1.03982522, 1.09262128, 1.0524882 , 1.1017375 , 1.13190181]),\n",
       " 'test_mae': array([0.86371016, 0.87452112, 0.85830783, 0.85812017, 0.93454113]),\n",
       " 'fit_time': (0.04631924629211426,\n",
       "  0.026477336883544922,\n",
       "  0.015208959579467773,\n",
       "  0.014096975326538086,\n",
       "  0.01614999771118164),\n",
       " 'test_time': (0.003204345703125,\n",
       "  0.0025000572204589844,\n",
       "  0.0025870800018310547,\n",
       "  0.003971099853515625,\n",
       "  0.004466056823730469)}"
      ]
     },
     "execution_count": 48,
     "metadata": {},
     "output_type": "execute_result"
    }
   ],
   "source": [
    "# Load the MovieLens dataset\n",
    "reader = Reader()\n",
    "data = Dataset.load_from_df(df[['Cust_Id', 'Movie_Id', 'Rating']][:],reader)\n",
    "\n",
    "# Create a user-based collaborative filtering model\n",
    "sim_options = {\n",
    "    'name': 'cosine',\n",
    "    'user_based': True  # Compute user similarity\n",
    "}\n",
    "\n",
    "# Initialize the KNNBasic algorithm\n",
    "model = KNNBasic(sim_options=sim_options)\n",
    "\n",
    "# Perform cross-validation\n",
    "cross_validate(model, data, measures=['RMSE', 'MAE'], cv=5, verbose=True)"
   ]
  },
  {
   "cell_type": "code",
   "execution_count": 49,
   "metadata": {},
   "outputs": [
    {
     "name": "stdout",
     "output_type": "stream",
     "text": [
      "Computing the cosine similarity matrix...\n",
      "Done computing similarity matrix.\n",
      "RMSE: 1.0605\n",
      "RMSE: 1.0605386956375422\n"
     ]
    }
   ],
   "source": [
    "# Load the dataset\n",
    "#data = Dataset.load_builtin('ml-100k')\n",
    "# Split the data into a training set and a test set\n",
    "trainset, testset = train_test_split(data, test_size=0.25)\n",
    "# Initialize and fit the model\n",
    "model = KNNBasic(sim_options=sim_options)\n",
    "model.fit(trainset)\n",
    "# Make predictions\n",
    "predictions = model.test(testset)\n",
    "# Calculate RMSE\n",
    "rmse = accuracy.rmse(predictions)\n",
    "print(f'RMSE: {rmse}')"
   ]
  },
  {
   "attachments": {},
   "cell_type": "markdown",
   "metadata": {},
   "source": [
    "## Usare item based NN "
   ]
  },
  {
   "cell_type": "code",
   "execution_count": 50,
   "metadata": {},
   "outputs": [
    {
     "name": "stdout",
     "output_type": "stream",
     "text": [
      "Computing the cosine similarity matrix...\n",
      "Done computing similarity matrix.\n",
      "Computing the cosine similarity matrix...\n",
      "Done computing similarity matrix.\n",
      "Computing the cosine similarity matrix...\n",
      "Done computing similarity matrix.\n",
      "Computing the cosine similarity matrix...\n",
      "Done computing similarity matrix.\n",
      "Computing the cosine similarity matrix...\n",
      "Done computing similarity matrix.\n",
      "Evaluating RMSE, MAE of algorithm KNNBasic on 5 split(s).\n",
      "\n",
      "                  Fold 1  Fold 2  Fold 3  Fold 4  Fold 5  Mean    Std     \n",
      "RMSE (testset)    1.1204  1.0306  0.9909  1.0413  1.1874  1.0741  0.0705  \n",
      "MAE (testset)     0.9110  0.8565  0.8078  0.8497  0.9434  0.8737  0.0479  \n",
      "Fit time          0.04    0.02    0.02    0.02    0.02    0.02    0.01    \n",
      "Test time         0.00    0.00    0.00    0.00    0.00    0.00    0.00    \n"
     ]
    },
    {
     "data": {
      "text/plain": [
       "{'test_rmse': array([1.12035741, 1.03064277, 0.99089216, 1.041291  , 1.18741889]),\n",
       " 'test_mae': array([0.91098243, 0.85650486, 0.8077669 , 0.84971222, 0.94342011]),\n",
       " 'fit_time': (0.04016304016113281,\n",
       "  0.02325892448425293,\n",
       "  0.02111673355102539,\n",
       "  0.016490936279296875,\n",
       "  0.017423152923583984),\n",
       " 'test_time': (0.003538846969604492,\n",
       "  0.0025937557220458984,\n",
       "  0.003205537796020508,\n",
       "  0.003868579864501953,\n",
       "  0.004126787185668945)}"
      ]
     },
     "execution_count": 50,
     "metadata": {},
     "output_type": "execute_result"
    }
   ],
   "source": [
    "# Load the MovieLens dataset\n",
    "reader = Reader()\n",
    "data = Dataset.load_from_df(df[['Cust_Id', 'Movie_Id', 'Rating']][:],reader)\n",
    "\n",
    "# Create a user-based collaborative filtering model\n",
    "sim_options = {\n",
    "    'name': 'cosine',\n",
    "    'item_based': True  # Compute user similarity\n",
    "}\n",
    "\n",
    "# Initialize the KNNBasic algorithm\n",
    "model = KNNBasic(sim_options=sim_options)\n",
    "\n",
    "# Perform cross-validation\n",
    "cross_validate(model, data, measures=['RMSE', 'MAE'], cv=5, verbose=True)"
   ]
  },
  {
   "cell_type": "code",
   "execution_count": 51,
   "metadata": {},
   "outputs": [
    {
     "name": "stdout",
     "output_type": "stream",
     "text": [
      "Computing the cosine similarity matrix...\n",
      "Done computing similarity matrix.\n",
      "RMSE: 1.0166\n",
      "RMSE: 1.0166491829442186\n"
     ]
    }
   ],
   "source": [
    "# Load the dataset\n",
    "data = Dataset.load_builtin('ml-100k')\n",
    "# Split the data into a training set and a test set\n",
    "trainset, testset = train_test_split(data, test_size=0.25)\n",
    "# Initialize and fit the model\n",
    "model = KNNBasic(sim_options=sim_options)\n",
    "model.fit(trainset)\n",
    "# Make predictions\n",
    "predictions = model.test(testset)\n",
    "# Calculate RMSE\n",
    "rmse = accuracy.rmse(predictions)\n",
    "print(f'RMSE: {rmse}')"
   ]
  },
  {
   "cell_type": "code",
   "execution_count": 52,
   "metadata": {},
   "outputs": [
    {
     "name": "stdout",
     "output_type": "stream",
     "text": [
      "Cust_Id   915      1333     2442     3321     4326     6689     11409    \\\n",
      "Movie_Id                                                                  \n",
      "1             5.0      0.0      3.0      3.0      4.0      0.0      0.0   \n",
      "2             0.0      0.0      0.0      0.0      0.0      0.0      5.0   \n",
      "3             0.0      4.0      0.0      0.0      0.0      4.0      0.0   \n",
      "\n",
      "Cust_Id   11589    13651    14756    ...  2630337  2630797  2631796  2632461  \\\n",
      "Movie_Id                             ...                                       \n",
      "1             3.0      3.0      4.0  ...      5.0      5.0      4.0      0.0   \n",
      "2             0.0      0.0      0.0  ...      0.0      0.0      0.0      0.0   \n",
      "3             0.0      0.0      0.0  ...      0.0      0.0      0.0      3.0   \n",
      "\n",
      "Cust_Id   2635437  2640085  2646060  2646115  2647871  2648861  \n",
      "Movie_Id                                                        \n",
      "1             4.0      0.0      0.0      0.0      4.0      0.0  \n",
      "2             0.0      5.0      0.0      0.0      0.0      3.0  \n",
      "3             0.0      0.0      3.0      3.0      0.0      0.0  \n",
      "\n",
      "[3 rows x 985 columns]\n"
     ]
    }
   ],
   "source": [
    "ratings_matrix_transpose = df.pivot(index='Movie_Id', columns='Cust_Id', values='Rating')\n",
    "\n",
    "# Se vuoi gestire eventuali valori mancanti con uno zero, puoi utilizzare il metodo fillna\n",
    "ratings_matrix_transpose = ratings_matrix_transpose.fillna(0)\n",
    "\n",
    "# Se preferisci avere la matrice come array numpy, puoi utilizzare values\n",
    "#ratings_matrix_array = ratings_matrix.values\n",
    "\n",
    "print(ratings_matrix_transpose)"
   ]
  },
  {
   "cell_type": "code",
   "execution_count": 53,
   "metadata": {},
   "outputs": [
    {
     "name": "stdout",
     "output_type": "stream",
     "text": [
      "{1: 3.749542961608775, 2: 3.5586206896551724, 3: 3.6327868852459018}\n"
     ]
    }
   ],
   "source": [
    "rating_medi_transpose = {}\n",
    "# calcolo rating medio senza considerare gli 0\n",
    "for i in ratings_matrix_transpose.iterrows():\n",
    "        #print(i[0])\n",
    "        count = 0\n",
    "        countn = 0\n",
    "        for j in i[1].values:\n",
    "            if j != 0:\n",
    "                  count += j\n",
    "                  countn += 1\n",
    "        rating_medi_transpose[i[0]] = count/countn\n",
    "print(rating_medi_transpose)"
   ]
  },
  {
   "cell_type": "code",
   "execution_count": 54,
   "metadata": {},
   "outputs": [
    {
     "name": "stdout",
     "output_type": "stream",
     "text": [
      "Cust_Id\n",
      "915        5.0\n",
      "1333       0.0\n",
      "2442       3.0\n",
      "3321       3.0\n",
      "4326       4.0\n",
      "          ... \n",
      "2640085    0.0\n",
      "2646060    0.0\n",
      "2646115    0.0\n",
      "2647871    4.0\n",
      "2648861    0.0\n",
      "Name: 1, Length: 985, dtype: float64\n"
     ]
    }
   ],
   "source": [
    "item_target = ratings_matrix_transpose.loc[id_item_target]\n",
    "print(item_target)"
   ]
  },
  {
   "cell_type": "code",
   "execution_count": 55,
   "metadata": {},
   "outputs": [
    {
     "name": "stdout",
     "output_type": "stream",
     "text": [
      "{(2, 1): 0.4625373866647105, (3, 1): 0.22976255343032886}\n"
     ]
    }
   ],
   "source": [
    "# Definire la funzione per il calcolo della similarità tra utenti utilizzando la person coefficent\n",
    "similarita_transpose = {}\n",
    "def item_similarity(ratings,item_target):\n",
    "    # scorro UTENTI\n",
    "    for i in ratings.iterrows():\n",
    "        # se l'ITEM è diverso dall'item target\n",
    "        #print(i[0])\n",
    "        if i[0] != id_item_target:\n",
    "            # calcolo similarità\n",
    "            #print(i[1].values[0])\n",
    "            numeratore = 0\n",
    "            denominatoreP1 = 0\n",
    "            denominatoreP2 = 0\n",
    "            for j in range(len(i[1].values)):\n",
    "                #print(item_target.values[j])\n",
    "                numeratore += (i[1].values[j]-rating_medi_transpose[i[0]])*(item_target.values[j]-rating_medi_transpose[id_item_target])\n",
    "                denominatoreP1 += (i[1].values[j]-rating_medi_transpose[i[0]])**2\n",
    "                denominatoreP2 +=(item_target.values[j]-rating_medi_transpose[id_item_target])**2\n",
    "            sim = numeratore/(math.sqrt(denominatoreP1)*math.sqrt(denominatoreP2))\n",
    "            similarita_transpose[(i[0],id_item_target)] = sim\n",
    "\n",
    "# Calcolare la similarità tra utenti\n",
    "item_similarity(ratings_matrix_transpose,item_target)\n",
    "print(similarita_transpose)"
   ]
  },
  {
   "cell_type": "code",
   "execution_count": 56,
   "metadata": {},
   "outputs": [
    {
     "name": "stdout",
     "output_type": "stream",
     "text": [
      "{}\n"
     ]
    }
   ],
   "source": [
    "# FACCIO UNA SOGLIO K DI VICINATO SULLA BASE DELLA SIMILARITÀ\n",
    "sim_soglia_transpose = {}\n",
    "for i in similarita_transpose:\n",
    "    if similarita_transpose[i] > 0.96:\n",
    "        sim_soglia_transpose[i] = similarita_transpose[i]\n",
    "print(sim_soglia_transpose)"
   ]
  },
  {
   "cell_type": "code",
   "execution_count": 59,
   "metadata": {},
   "outputs": [
    {
     "name": "stdout",
     "output_type": "stream",
     "text": [
      "Rating per l item 1 è di 1.327531840599535 per l utente 1333\n"
     ]
    }
   ],
   "source": [
    "# Definire una funzione per la predizione delle valutazioni utilizzando User-Based Collaborative Filtering\n",
    "def predict_item_based(item,item_similarities,ratings_matrix_transpose,id_item_target):\n",
    "    # Calcolare le valutazioni previste\n",
    "    num = 0\n",
    "    den = 0\n",
    "    if ratings_matrix_transpose.loc[id_item_target].values[item] == 0:\n",
    "        for i in item_similarities:\n",
    "            num += (item_similarities[i]* (ratings_matrix_transpose.loc[i[0]].values[item]))\n",
    "            den += item_similarities[i]\n",
    "        pred_ratings = (num / den)\n",
    "        return pred_ratings\n",
    "    else:\n",
    "        return ratings_matrix.loc[id_user_target].values[item]\n",
    "\n",
    "# Ottenere le previsioni per tutte le valutazioni\n",
    "predicted_ratings_user_based = predict_item_based(id_item_target, similarita_transpose,ratings_matrix_transpose,id_item_target)\n",
    "print(f'Rating per l item {id_item_target} è di {predicted_ratings_user_based} per l utente {id_user_target}')\n"
   ]
  },
  {
   "cell_type": "code",
   "execution_count": 61,
   "metadata": {},
   "outputs": [
    {
     "name": "stdout",
     "output_type": "stream",
     "text": [
      "Rating per l item 1 è di 1.327531840599535 per l utente 1333\n",
      "Rating per l item 2 è di 4.0 per l utente 1333\n",
      "Rating ESPLICITI per l item 2 è di 4.0 per l utente 1333\n"
     ]
    }
   ],
   "source": [
    "# Ottenere le previsioni per tutte le valutazioni\n",
    "for m in range(len(user_target)):\n",
    "    predicted_ratings_user_based = predict_item_based(m, similarita_transpose,ratings_matrix_transpose,id_item_target)\n",
    "    if predicted_ratings_user_based > 0:    \n",
    "        print(f'Rating per l item {m} è di {predicted_ratings_user_based} per l utente {id_user_target}')\n",
    "for m in range(len(user_target)):\n",
    "    if user_target.values[m] > 0:\n",
    "        print(f'Rating ESPLICITI per l item {m} è di {user_target.values[m]} per l utente {id_user_target}')"
   ]
  },
  {
   "attachments": {},
   "cell_type": "markdown",
   "metadata": {},
   "source": [
    "## Paradigma : User based vs item base"
   ]
  },
  {
   "attachments": {},
   "cell_type": "markdown",
   "metadata": {},
   "source": [
    "## Matrix factorization: SVD "
   ]
  },
  {
   "cell_type": "code",
   "execution_count": 62,
   "metadata": {},
   "outputs": [],
   "source": [
    "reader = Reader()\n",
    "\n",
    "# get just top 100K rows for faster run time\n",
    "data = Dataset.load_from_df(df[['Cust_Id', 'Movie_Id', 'Rating']][:], reader)\n",
    "#data.split(n_folds=3)\n",
    "trainsetData, testsetData = train_test_split(data, test_size=0.2)"
   ]
  },
  {
   "cell_type": "code",
   "execution_count": 63,
   "metadata": {},
   "outputs": [
    {
     "name": "stdout",
     "output_type": "stream",
     "text": [
      "Evaluating RMSE, MAE of algorithm SVD on 5 split(s).\n",
      "\n",
      "                  Fold 1  Fold 2  Fold 3  Fold 4  Fold 5  Mean    Std     \n",
      "RMSE (testset)    1.0817  1.1257  1.0821  0.9862  1.1475  1.0846  0.0554  \n",
      "MAE (testset)     0.8892  0.8968  0.8801  0.8011  0.9095  0.8753  0.0383  \n",
      "RMSE (trainset)   0.7181  0.7087  0.6974  0.7145  0.7284  0.7134  0.0103  \n",
      "MAE (trainset)    0.5703  0.5643  0.5540  0.5749  0.5757  0.5679  0.0080  \n",
      "Fit time          0.02    0.02    0.02    0.02    0.02    0.02    0.00    \n",
      "Test time         0.00    0.00    0.00    0.00    0.00    0.00    0.00    \n"
     ]
    },
    {
     "data": {
      "text/plain": [
       "{'test_rmse': array([1.08172015, 1.12566475, 1.08206551, 0.98620392, 1.14747006]),\n",
       " 'train_rmse': array([0.71806266, 0.70865702, 0.69741135, 0.71451957, 0.72844242]),\n",
       " 'test_mae': array([0.88921889, 0.89675019, 0.88007379, 0.80112606, 0.90950042]),\n",
       " 'train_mae': array([0.57027905, 0.56429528, 0.55403185, 0.57491372, 0.57573713]),\n",
       " 'fit_time': (0.024950742721557617,\n",
       "  0.022351980209350586,\n",
       "  0.023331403732299805,\n",
       "  0.0203859806060791,\n",
       "  0.0207977294921875),\n",
       " 'test_time': (0.0018596649169921875,\n",
       "  0.002742290496826172,\n",
       "  0.0024137496948242188,\n",
       "  0.0017681121826171875,\n",
       "  0.0017161369323730469)}"
      ]
     },
     "execution_count": 63,
     "metadata": {},
     "output_type": "execute_result"
    }
   ],
   "source": [
    "svd = SVD()\n",
    "cross_validate(svd, data, measures=['RMSE', 'MAE'],verbose=True,return_train_measures=True,n_jobs=100)\n"
   ]
  },
  {
   "attachments": {},
   "cell_type": "markdown",
   "metadata": {},
   "source": [
    "## Metriche : Precision vs Recal vs F1 vs MAE vs RMSE vs NMAE"
   ]
  },
  {
   "cell_type": "code",
   "execution_count": 64,
   "metadata": {},
   "outputs": [
    {
     "name": "stdout",
     "output_type": "stream",
     "text": [
      "[5, 4, 3, 4, 3, 4, 4, 3, 4, 3, 4, 5, 5, 4, 4, 1, 4, 3, 3, 3, 1, 5, 4, 3, 4, 5, 5, 4, 3, 3, 4, 3, 4, 3, 4, 3, 5, 3, 4, 5, 1, 3, 3, 2, 2, 4, 4, 5, 3, 4, 1, 4, 5, 4, 4, 3, 2, 3, 3, 5, 4, 4, 5, 1, 5, 1, 3, 2, 1, 4, 5, 1, 4, 5, 3, 3, 5, 1, 3, 3, 4, 4, 4, 4, 3, 3, 4, 4, 4, 4, 3, 5, 5, 3, 4, 4, 5, 4, 4, 4, 3, 4, 4, 4, 4, 5, 3, 5, 4, 5, 2, 3, 1, 5, 4, 4, 5, 5, 3, 3, 1, 3, 5, 5, 4, 3, 4, 5, 4, 5, 3, 4, 4, 3, 5, 3, 5, 3, 4, 4, 5, 5, 5, 4, 4, 3, 3, 1, 4, 3, 4, 4, 5, 4, 3, 4, 3, 4, 5, 4, 1, 4, 3, 3, 3, 2, 2, 5, 4, 4, 4, 5, 4, 5, 3, 4, 3, 4, 3, 2, 4, 1, 4, 3, 5, 5, 4, 4, 5, 5, 5, 1, 2, 3, 4, 5, 4, 3, 4, 4]\n",
      "[4, 4, 3, 3, 3, 4, 3, 3, 3, 3, 3, 4, 4, 3, 4, 2, 3, 3, 3, 3, 2, 4, 3, 3, 3, 3, 3, 4, 3, 3, 3, 3, 3, 3, 3, 3, 4, 3, 3, 4, 2, 3, 3, 3, 2, 3, 3, 4, 3, 3, 2, 4, 4, 3, 3, 3, 2, 3, 3, 4, 4, 4, 4, 2, 4, 2, 3, 3, 2, 4, 4, 2, 3, 4, 3, 3, 4, 2, 3, 3, 3, 3, 3, 3, 3, 3, 3, 3, 3, 3, 3, 4, 4, 3, 3, 3, 4, 4, 3, 3, 3, 3, 3, 3, 4, 4, 3, 4, 3, 4, 3, 3, 2, 4, 3, 3, 4, 4, 3, 3, 2, 3, 4, 4, 3, 3, 3, 4, 3, 4, 3, 3, 3, 3, 4, 3, 4, 3, 3, 3, 4, 4, 4, 3, 3, 3, 3, 2, 3, 3, 3, 3, 3, 3, 3, 3, 3, 3, 4, 3, 2, 3, 3, 3, 3, 3, 3, 4, 3, 3, 3, 3, 4, 3, 3, 3, 3, 3, 3, 2, 3, 2, 3, 3, 4, 4, 3, 3, 4, 4, 4, 2, 3, 3, 3, 4, 3, 3, 3, 3]\n",
      "MAE:  0.5390\n",
      "MAE:  0.5390\n",
      "Precision: 0.34\n",
      "Recall: 0.34\n",
      "F1 Score: 0.34\n",
      "NMAE: 0.13476238049522796\n",
      "MAE: 0.5390495219809118\n"
     ]
    }
   ],
   "source": [
    "ts = data.build_full_trainset()\n",
    "svd.fit(ts)\n",
    "\n",
    "predictions = svd.test(testsetData)\n",
    "\n",
    "y_true = [int(pred.r_ui) for pred in predictions]\n",
    "y_pred = [int(pred.est) for pred in predictions]\n",
    "print(y_true)\n",
    "print(y_pred)\n",
    "\n",
    "\n",
    "# Calcola le metriche aggiuntive\n",
    "precision = precision_score(y_true, [round(pred) for pred in y_pred], average='micro')\n",
    "recall = recall_score(y_true, [round(pred) for pred in y_pred], average='micro')\n",
    "f1 = f1_score(y_true, [round(pred) for pred in y_pred], average='micro')\n",
    "nmae = accuracy.mae(predictions) / (max(y_true) - min(y_true))\n",
    "mae = accuracy.mae(predictions)\n",
    "\n",
    "# Stampa i risultati\n",
    "print(f'Precision:',precision)\n",
    "print(f'Recall:',recall)\n",
    "print(f'F1 Score:',f1)\n",
    "print(f'NMAE:',nmae)\n",
    "print(f'MAE:',mae)"
   ]
  },
  {
   "attachments": {},
   "cell_type": "markdown",
   "metadata": {},
   "source": [
    "Probabilistic approch : Classificatore bayesiano "
   ]
  }
 ],
 "metadata": {
  "kernelspec": {
   "display_name": "Python 3",
   "language": "python",
   "name": "python3"
  },
  "language_info": {
   "codemirror_mode": {
    "name": "ipython",
    "version": 3
   },
   "file_extension": ".py",
   "mimetype": "text/x-python",
   "name": "python",
   "nbconvert_exporter": "python",
   "pygments_lexer": "ipython3",
   "version": "3.10.6"
  },
  "orig_nbformat": 4
 },
 "nbformat": 4,
 "nbformat_minor": 2
}
